{
  "nbformat": 4,
  "nbformat_minor": 0,
  "metadata": {
    "colab": {
      "provenance": [],
      "toc_visible": true
    },
    "kernelspec": {
      "name": "python3",
      "display_name": "Python 3"
    },
    "language_info": {
      "name": "python"
    }
  },
  "cells": [
    {
      "cell_type": "code",
      "source": [
        "#Given that 'anima.txt' didn't use to be a .txt I first tried to run a generic\n",
        "#function in order to check if I could actually work on the document.\n",
        "\n",
        "f = open('anima.txt')\n",
        "\n",
        "direct_index = []\n",
        "stop_words=['in','a','and','the','an','uno','una','e','come','li','lo']\n",
        "for line in f:\n",
        "  words = line.split()\n",
        "  for word in words:\n",
        "    w = word.lower().strip('?!,;.:\\\"\\'')\n",
        "    if w not in stop_words:\n",
        "      direct_index.append(w)\n",
        "\n",
        "direct_index"
      ],
      "metadata": {
        "id": "t2__qj2Lcime"
      },
      "execution_count": null,
      "outputs": []
    },
    {
      "cell_type": "code",
      "source": [
        "#building a direct index, punctuation and stop words free.\n",
        "#also, we will avoid having the same word written multiple times\n",
        "#first direct index needed for direct_indexing\n",
        "\n",
        "def build_direct_index_hw(filename):\n",
        "  f = open(filename)\n",
        "  direct_index = []\n",
        "  stop_words=['in','a','and','the','an','uno','una','e','come','li','lo']\n",
        "  for line in f:\n",
        "    words = line.split()\n",
        "    for word in words:\n",
        "      w = word.lower().strip('?!,;.:\\\"\\'')\n",
        "      if w not in stop_words:\n",
        "        direct_index.append((w,filename))\n",
        "\n",
        "  return direct_index\n"
      ],
      "metadata": {
        "id": "N0KN9UwyYdpg"
      },
      "execution_count": null,
      "outputs": []
    },
    {
      "cell_type": "code",
      "source": [
        "#just checking if it runs correctly:\n",
        "\n",
        "build_direct_index_hw('kevin.txt')"
      ],
      "metadata": {
        "id": "gpfOKA8TY79X"
      },
      "execution_count": null,
      "outputs": []
    },
    {
      "cell_type": "code",
      "source": [
        "#in order to build a direct index, indexing both of our txt files:\n",
        "\n",
        "def build_batch_direct_indexes_hw(*filenames):\n",
        "  direct_indexes = []\n",
        "  for filename in filenames:\n",
        "    direct_indexes = direct_indexes + (build_direct_index_hw(filename))\n",
        "    direct_indexes.append(build_direct_index_hw(filename))\n",
        "\n",
        "\n",
        "  return direct_indexes\n"
      ],
      "metadata": {
        "id": "cM8loX32ZNS7"
      },
      "execution_count": null,
      "outputs": []
    },
    {
      "cell_type": "code",
      "source": [
        "direct_index = build_batch_direct_indexes_hw('anima.txt','kevin.txt')"
      ],
      "metadata": {
        "id": "fYkxzZvahxD5"
      },
      "execution_count": null,
      "outputs": []
    },
    {
      "cell_type": "code",
      "source": [
        "#Checking if it works, again:\n",
        "build_batch_direct_indexes_hw('anima.txt','kevin.txt')"
      ],
      "metadata": {
        "id": "j2x7vi8-ag4w"
      },
      "execution_count": null,
      "outputs": []
    },
    {
      "cell_type": "code",
      "source": [
        "#Now starting to build the reverse_index"
      ],
      "metadata": {
        "id": "T_J7hAWE4q_-"
      },
      "execution_count": null,
      "outputs": []
    },
    {
      "cell_type": "code",
      "source": [
        "#in order to ''translate'' our text back we need to define a new function, this\n",
        "#index back as it is supposed to give us both the answer of a word being in the\n",
        "#bunch and also at which frequency it's repeated, the 'bunch' will be a set which\n",
        "#will be appearing as a collection of our words.\n",
        "#Given I don't have a build in dictionary it will give back first the word it'self\n",
        "#and then the word along with its actual frequency\n",
        "\n",
        "def build_direct_index_set(filename):\n",
        "  f = open(filename)\n",
        "  unique_words = set()\n",
        "  word_frequencies = dict()\n",
        "\n",
        "  stop_words = ['in','a','and','the','an','uno','una','e','come','li','lo']\n",
        "  for line in f:\n",
        "    words = line.split()\n",
        "    for word in words:\n",
        "      w = word.lower().strip('?!,;.:\\\"\\'')\n",
        "\n",
        "      if w not in stop_words:\n",
        "        unique_words.add(w)\n",
        "\n",
        "        if w not in word_frequencies:\n",
        "          word_frequencies[w] = 1\n",
        "        else:\n",
        "          word_frequencies[w] = (word_frequencies[w] + 1)\n",
        "\n",
        "\n",
        "  return(unique_words, word_frequencies)"
      ],
      "metadata": {
        "id": "ToKR7QOUJfRi"
      },
      "execution_count": null,
      "outputs": []
    },
    {
      "cell_type": "code",
      "source": [
        "build_direct_index_set('kevin.txt')"
      ],
      "metadata": {
        "id": "wOyPppq8F3sU"
      },
      "execution_count": null,
      "outputs": []
    },
    {
      "cell_type": "code",
      "source": [
        "#We need to be able to do this on multiple files so:\n",
        "\n",
        "def build_batch_direct_indexes_set(*filenames):\n",
        "\n",
        "  direct_indexes = dict()\n",
        "\n",
        "  for filename in filenames:\n",
        "      direct_indexes[filename] = build_direct_index_set(filename)\n",
        "\n",
        "  return direct_indexes"
      ],
      "metadata": {
        "id": "evEudoW8JnV3"
      },
      "execution_count": null,
      "outputs": []
    },
    {
      "cell_type": "code",
      "source": [
        "#checking if it works:\n",
        "build_batch_direct_indexes_set('anima.txt','kevin.txt','nicole.txt')"
      ],
      "metadata": {
        "id": "25Lacg-TFYrg"
      },
      "execution_count": null,
      "outputs": []
    },
    {
      "cell_type": "code",
      "source": [
        "#building the first second needed for the reverse indexing\n",
        "\n",
        "def build_batch_reversed_index_hw(direct_indexes):\n",
        "  filenames = direct_indexes.keys()\n",
        "  reverse_index = dict()\n",
        "  for filename in filenames:\n",
        "    words = direct_indexes[filename][0]\n",
        "\n",
        "    for word in words:\n",
        "      if word not in reverse_index:\n",
        "        reverse_index[word] = []\n",
        "\n",
        "\n",
        "      word_freq = direct_indexes[filename][1][word]\n",
        "      reverse_index[word].append((filename, word_freq))\n",
        "\n",
        "  return reverse_index"
      ],
      "metadata": {
        "id": "SmXSFICRJxlL"
      },
      "execution_count": null,
      "outputs": []
    },
    {
      "cell_type": "code",
      "source": [
        "#reverse indexing\n",
        "direct_index = build_batch_direct_indexes_set('nicole.txt','kevin.txt','anima.txt')\n",
        "reverse_index = build_batch_reversed_index_hw(direct_index)"
      ],
      "metadata": {
        "id": "SQFnYdC7J07q"
      },
      "execution_count": null,
      "outputs": []
    },
    {
      "cell_type": "code",
      "source": [
        "reverse_index['to']"
      ],
      "metadata": {
        "colab": {
          "base_uri": "https://localhost:8080/"
        },
        "id": "ppNigmBqzUtx",
        "outputId": "2a409c68-d2dd-48fe-d788-9bc62cbe1f66"
      },
      "execution_count": null,
      "outputs": [
        {
          "output_type": "execute_result",
          "data": {
            "text/plain": [
              "[('nicole.txt', 3), ('kevin.txt', 4)]"
            ]
          },
          "metadata": {},
          "execution_count": 191
        }
      ]
    },
    {
      "cell_type": "code",
      "source": [
        "#in order to build a 3'rd query we first need a new function indexing.\n",
        "\n",
        "def build_direct_index_query3(filename):\n",
        "  f = open(filename)\n",
        "  direct_index = set()\n",
        "  stop_words = ['in','a','and','the','an','uno','una','e','come','li','lo']\n",
        "  for line in f:\n",
        "    words = line.split()\n",
        "    for word in words:\n",
        "      w = word.lower().strip('?!,;.:\\\"\\'')\n",
        "      if w not in stop_words:\n",
        "        direct_index.add((w, filename))\n",
        "\n",
        "  return direct_index\n",
        "\n",
        "\n",
        "#and its batch function as well\n",
        "\n",
        "def build_batch_direct_indexes_query3(*filenames):\n",
        "  direct_indexes = []\n",
        "  for filename in filenames:\n",
        "    direct_index = build_direct_index_query3(filename)\n",
        "    direct_indexes.append(direct_index)\n",
        "\n",
        "  return direct_indexes"
      ],
      "metadata": {
        "id": "_9y8CcBU698_"
      },
      "execution_count": null,
      "outputs": []
    },
    {
      "cell_type": "code",
      "source": [
        "#checking if it works:\n",
        "\n",
        "print(build_batch_direct_indexes_query3('nicole.txt','anima.txt','kevin.txt'))"
      ],
      "metadata": {
        "colab": {
          "base_uri": "https://localhost:8080/"
        },
        "id": "W6qoJpmP8Ddg",
        "outputId": "13e79ce1-bfd7-4771-a40d-5fd35feeca4a"
      },
      "execution_count": null,
      "outputs": [
        {
          "output_type": "stream",
          "name": "stdout",
          "text": [
            "[{('stop', 'nicole.txt'), ('drums', 'nicole.txt'), ('see', 'nicole.txt'), ('comes', 'nicole.txt'), ('work', 'nicole.txt'), ('so', 'nicole.txt'), ('decide', 'nicole.txt'), ('trumpet', 'nicole.txt'), ('no', 'nicole.txt'), ('father', 'nicole.txt'), ('of', 'nicole.txt'), ('neighborhood', 'nicole.txt'), ('sometimes', 'nicole.txt'), ('all', 'nicole.txt'), ('what', 'nicole.txt'), ('i', 'nicole.txt'), ('room', 'nicole.txt'), ('like', 'nicole.txt'), ('other', 'nicole.txt'), ('join', 'nicole.txt'), ('are', 'nicole.txt'), ('understands', 'nicole.txt'), ('living', 'nicole.txt'), ('wow', 'nicole.txt'), ('is', 'nicole.txt'), ('be', 'nicole.txt'), ('set', 'nicole.txt'), ('do', 'nicole.txt'), ('nicole', 'nicole.txt'), ('girl', 'nicole.txt'), ('beat', 'nicole.txt'), ('happy', 'nicole.txt'), ('tell', 'nicole.txt'), ('parents', 'nicole.txt'), ('has', 'nicole.txt'), ('much', 'nicole.txt'), ('likes', 'nicole.txt'), ('but', 'nicole.txt'), ('quietly', 'nicole.txt'), ('piano', 'nicole.txt'), (\"doesn't\", 'nicole.txt'), ('cat', 'nicole.txt'), (\"can't\", 'nicole.txt'), ('very', 'nicole.txt'), ('apartment', 'nicole.txt'), ('one', 'nicole.txt'), ('day', 'nicole.txt'), ('rest', 'nicole.txt'), ('her', 'nicole.txt'), ('new', 'nicole.txt'), ('there', 'nicole.txt'), ('practices', 'nicole.txt'), ('sister', 'nicole.txt'), ('ok', 'nicole.txt'), ('even', 'nicole.txt'), ('doing', 'nicole.txt'), ('to', 'nicole.txt'), ('complains', 'nicole.txt'), ('answers', 'nicole.txt'), ('it', 'nicole.txt'), ('that', 'nicole.txt'), ('people', 'nicole.txt'), ('she', 'nicole.txt'), ('playing', 'nicole.txt'), ('more', 'nicole.txt'), ('says', 'nicole.txt'), ('they', 'nicole.txt'), ('will', 'nicole.txt'), ('neighbors', 'nicole.txt'), ('good', 'nicole.txt'), ('help', 'nicole.txt'), ('surprised', 'nicole.txt'), ('well', 'nicole.txt'), ('want', 'nicole.txt'), ('sleep', 'nicole.txt'), ('things', 'nicole.txt'), ('complain', 'nicole.txt'), ('play', 'nicole.txt'), ('building', 'nicole.txt'), ('sees', 'nicole.txt'), ('time', 'nicole.txt'), ('home', 'nicole.txt'), ('we', 'nicole.txt'), ('you', 'nicole.txt'), ('listens', 'nicole.txt'), ('them', 'nicole.txt'), ('guitar', 'nicole.txt'), ('this', 'nicole.txt'), ('can', 'nicole.txt')}, {('anima', 'anima.txt'), ('così', 'anima.txt'), ('mondo', 'anima.txt'), ('ai', 'anima.txt'), ('sacrario', 'anima.txt'), ('mai', 'anima.txt'), ('che', 'anima.txt'), ('raggi', 'anima.txt'), ('si', 'anima.txt'), ('creati', 'anima.txt'), ('più', 'anima.txt'), ('multiformi', 'anima.txt'), ('gli', 'anima.txt'), ('eterna', 'anima.txt'), (\"dell'onnipossente\", 'anima.txt'), ('ruscello', 'anima.txt'), ('miei', 'anima.txt'), ('amata', 'anima.txt'), ('presenza', 'anima.txt'), ('valle', 'anima.txt'), ('terra', 'anima.txt'), ('luogo', 'anima.txt'), ('nel', 'anima.txt'), ('mille', 'anima.txt'), ('di', 'anima.txt'), ('osservo', 'anima.txt'), (\"nell'anima\", 'anima.txt'), ('serenità', 'anima.txt'), ('occhi', 'anima.txt'), ('momento', 'anima.txt'), ('tiene', 'anima.txt'), ('neppure', 'anima.txt'), ('vicino', 'anima.txt'), ('pervasa', 'anima.txt'), ('amico', 'anima.txt'), ('spingono', 'anima.txt'), ('foresta', 'anima.txt'), ('brulicare', 'anima.txt'), ('tranquilla', 'anima.txt'), ('caro', 'anima.txt'), (\"nell'erba\", 'anima.txt'), ('mirabile', 'anima.txt'), ('con', 'anima.txt'), ('tutto', 'anima.txt'), ('erbette', 'anima.txt'), ('esistenza', 'anima.txt'), ('la', 'anima.txt'), ('gioia', 'anima.txt'), ('tra', 'anima.txt'), ('sembianza', 'anima.txt'), ('simile', 'anima.txt'), ('mattinate', 'anima.txt'), ('vermiciattoli', 'anima.txt'), ('ne', 'anima.txt'), ('gran', 'anima.txt'), ('quando', 'anima.txt'), ('maggio', 'anima.txt'), ('questo', 'anima.txt'), ('infiniti', 'anima.txt'), (\"l'alto\", 'anima.txt'), ('soffre', 'anima.txt'), ('posa', 'anima.txt'), ('donna', 'anima.txt'), ('impenetrabilmente', 'anima.txt'), (\"l'amata\", 'anima.txt'), ('crepuscolo', 'anima.txt'), ('sembra', 'anima.txt'), ('ora', 'anima.txt'), ('stende', 'anima.txt'), ('spesso', 'anima.txt'), ('nei', 'anima.txt'), ('sentimento', 'anima.txt'), ('solo', 'anima.txt'), ('mia', 'anima.txt'), ('pittore', 'anima.txt'), ('potrei', 'anima.txt'), ('segno', 'anima.txt'), ('ha', 'anima.txt'), ('stendo', 'anima.txt'), ('eppure', 'anima.txt'), ('stato', 'anima.txt'), ('ci', 'anima.txt'), ('anime', 'anima.txt'), ('mio', 'anima.txt'), ('creato', 'anima.txt'), (\"nell'interno\", 'anima.txt'), ('belle', 'anima.txt'), ('alla', 'anima.txt'), ('degli', 'anima.txt'), ('esser', 'anima.txt'), ('vapori', 'anima.txt'), ('vivere', 'anima.txt'), ('felice', 'anima.txt'), ('da', 'anima.txt'), ('scorre', 'anima.txt'), ('disegnare', 'anima.txt'), ('al', 'anima.txt'), ('sole', 'anima.txt'), ('presso', 'anima.txt'), ('moscerini', 'anima.txt'), ('non', 'anima.txt'), ('rallegro', 'anima.txt'), ('innumerevoli', 'anima.txt'), ('un', 'anima.txt'), ('cielo', 'anima.txt'), ('queste', 'anima.txt'), ('suoi', 'anima.txt'), ('godo', 'anima.txt'), ('sulla', 'anima.txt'), ('arte', 'anima.txt'), ('per', 'anima.txt'), ('è', 'anima.txt'), ('intorno', 'anima.txt'), ('immagine', 'anima.txt'), ('dinanzi', 'anima.txt'), ('steli', 'anima.txt'), ('allora', 'anima.txt'), ('cuore', 'anima.txt'), ('avvolge', 'anima.txt'), ('alta', 'anima.txt'), ('io', 'anima.txt'), ('nulla', 'anima.txt'), ('sento', 'anima.txt'), ('me', 'anima.txt'), ('oscura', 'anima.txt'), ('della', 'anima.txt'), ('sono', 'anima.txt'), ('alcuni', 'anima.txt'), ('mi', 'anima.txt'), ('piccolo', 'anima.txt'), ('sua', 'anima.txt'), ('il', 'anima.txt'), ('tracciare', 'anima.txt'), ('simili', 'anima.txt'), ('immerso', 'anima.txt')}, {('fix', 'kevin.txt'), ('i', 'kevin.txt'), ('we', 'kevin.txt'), (\"can't\", 'kevin.txt'), ('to', 'kevin.txt'), ('no', 'kevin.txt'), ('toy', 'kevin.txt'), ('not', 'kevin.txt'), ('interesting', 'kevin.txt'), ('sure', 'kevin.txt'), ('sad', 'kevin.txt'), ('are', 'kevin.txt'), ('she', 'kevin.txt'), ('him', 'kevin.txt'), ('is', 'kevin.txt'), ('tv', 'kevin.txt'), ('for', 'kevin.txt'), ('beautiful', 'kevin.txt'), ('on', 'kevin.txt'), ('dad', 'kevin.txt'), ('shiny', 'kevin.txt'), ('about', 'kevin.txt'), ('car', 'kevin.txt'), ('around', 'kevin.txt'), ('garage', 'kevin.txt'), ('invites', 'kevin.txt'), ('away', 'kevin.txt'), ('decides', 'kevin.txt'), ('kevin', 'kevin.txt'), ('reads', 'kevin.txt'), ('please', 'kevin.txt'), ('happy', 'kevin.txt'), ('do', 'kevin.txt'), ('fast', 'kevin.txt'), ('has', 'kevin.txt'), ('too', 'kevin.txt'), ('young', 'kevin.txt'), ('could', 'kevin.txt'), ('likes', 'kevin.txt'), ('smiles', 'kevin.txt'), ('can', 'kevin.txt'), ('drive', 'kevin.txt'), ('build', 'kevin.txt'), ('inside', 'kevin.txt'), ('watches', 'kevin.txt'), ('difficult', 'kevin.txt'), ('one', 'kevin.txt'), ('want', 'kevin.txt'), ('father', 'kevin.txt'), ('two', 'kevin.txt'), ('wants', 'kevin.txt'), ('buy', 'kevin.txt'), ('mom', 'kevin.txt'), ('sit', 'kevin.txt'), ('you', 'kevin.txt'), (\"it's\", 'kevin.txt'), ('sports', 'kevin.txt'), ('subject', 'kevin.txt'), ('creation', 'kevin.txt'), ('me', 'kevin.txt'), ('it', 'kevin.txt'), ('starts', 'kevin.txt'), ('now', 'kevin.txt'), ('lot', 'kevin.txt'), ('believe', 'kevin.txt'), ('tells', 'kevin.txt'), ('he', 'kevin.txt'), ('mechanics', 'kevin.txt'), ('dangerous', 'kevin.txt'), ('mother', 'kevin.txt'), ('finally', 'kevin.txt'), ('expensive', 'kevin.txt'), ('full', 'kevin.txt'), ('after', 'kevin.txt'), ('of', 'kevin.txt'), ('months', 'kevin.txt'), ('buys', 'kevin.txt'), ('his', 'kevin.txt'), (\"doesn't\", 'kevin.txt'), (\"kevin's\", 'kevin.txt'), ('proud', 'kevin.txt'), ('parents', 'kevin.txt'), ('head', 'kevin.txt'), ('hangs', 'kevin.txt'), ('says', 'kevin.txt'), ('books', 'kevin.txt'), ('own', 'kevin.txt'), ('was', 'kevin.txt'), ('shows', 'kevin.txt'), ('building', 'kevin.txt'), ('magazines', 'kevin.txt'), ('fun', 'kevin.txt'), ('at', 'kevin.txt'), ('anything', 'kevin.txt'), ('very', 'kevin.txt'), ('drives', 'kevin.txt'), ('red', 'kevin.txt'), ('surprised', 'kevin.txt'), ('worried', 'kevin.txt'), ('this', 'kevin.txt'), ('big', 'kevin.txt'), ('cars', 'kevin.txt'), ('see', 'kevin.txt')}]\n"
          ]
        }
      ]
    },
    {
      "cell_type": "code",
      "source": [
        "#Now checking if the words given are in any of our texts\n",
        "w = 'possible'\n",
        "\n",
        "for t in direct_index:\n",
        "  if t[0] == w:\n",
        "    print(f\"The word has been found in {t[1]}\")\n",
        "  if w not in direct_index:\n",
        "      print(f\"Nope. Try again\")\n",
        "      break"
      ],
      "metadata": {
        "colab": {
          "base_uri": "https://localhost:8080/"
        },
        "id": "4DT2WMAFAek9",
        "outputId": "87d7f94e-d062-4683-f353-9723e9e9201a"
      },
      "execution_count": null,
      "outputs": [
        {
          "output_type": "stream",
          "name": "stdout",
          "text": [
            "Nope. Try again\n"
          ]
        }
      ]
    },
    {
      "cell_type": "code",
      "source": [
        "w1 = 'difficult'\n",
        "\n",
        "for t in direct_index:\n",
        "  if t[0] == w1:\n",
        "    print(f\"The word has been found in {t[1]}\")\n",
        "    break"
      ],
      "metadata": {
        "colab": {
          "base_uri": "https://localhost:8080/"
        },
        "id": "aix0p0fcAgsd",
        "outputId": "a440f4e8-f517-40b9-83ac-1592e59db362"
      },
      "execution_count": null,
      "outputs": [
        {
          "output_type": "stream",
          "name": "stdout",
          "text": [
            "The word has been found in kevin.txt\n"
          ]
        }
      ]
    },
    {
      "cell_type": "code",
      "source": [
        "#Now, in order to compare my query to query 1 version 1\n",
        "idx_query3 = build_batch_direct_indexes_query3('nicole.txt','anima.txt','kevin.txt')"
      ],
      "metadata": {
        "id": "EN1QXgtj8wbS"
      },
      "execution_count": null,
      "outputs": []
    },
    {
      "cell_type": "code",
      "source": [
        "#in order to build a 3'rd query we can write:\n",
        "\n",
        "def query3(direct_indexes, w, w1):\n",
        "\n",
        "  w = 'home'\n",
        "  output = []\n",
        "\n",
        "  for direct_index in direct_indexes:\n",
        "    for t in direct_index:\n",
        "      if t[0] == (w, w1):\n",
        "        output.append((t[2], t[1]))\n",
        "\n",
        "        break\n",
        "\n",
        "  return output"
      ],
      "metadata": {
        "id": "pZy-_943kDbv"
      },
      "execution_count": null,
      "outputs": []
    },
    {
      "cell_type": "code",
      "source": [
        "#Query 1 version 1 took: 0:00:08.731518 milliseconds\n",
        "\n",
        "import datetime\n",
        "\n",
        "idx_q3= build_batch_direct_indexes_query3('nicole.txt','kevin.txt','anima.txt')\n",
        "\n",
        "before = datetime.datetime.now()\n",
        "\n",
        "for i in range(0,500000):\n",
        "  query3(idx_query3, 'difficult','possibly')\n",
        "\n",
        "after=datetime.datetime.now()\n",
        "\n",
        "print(f\"Query 3 version hw took: {(after-before)} milliseconds \")\n"
      ],
      "metadata": {
        "colab": {
          "base_uri": "https://localhost:8080/"
        },
        "id": "5nJx0CSt8j7C",
        "outputId": "bebd5828-da24-425a-e5c4-6d74ddf13824"
      },
      "execution_count": null,
      "outputs": [
        {
          "output_type": "stream",
          "name": "stdout",
          "text": [
            "Query 3 version hw took: 0:00:18.793416 milliseconds \n"
          ]
        }
      ]
    },
    {
      "cell_type": "code",
      "source": [
        "#My version is definitely slower but not too slow given that the code is iterating 500000\n",
        "#for both words instead than the lonely 'the' we have seen in class"
      ],
      "metadata": {
        "id": "gPdd85bZHIFE"
      },
      "execution_count": null,
      "outputs": []
    }
  ]
}