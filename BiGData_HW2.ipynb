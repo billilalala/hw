{
  "nbformat": 4,
  "nbformat_minor": 0,
  "metadata": {
    "colab": {
      "provenance": []
    },
    "kernelspec": {
      "name": "python3",
      "display_name": "Python 3"
    },
    "language_info": {
      "name": "python"
    }
  },
  "cells": [
    {
      "cell_type": "markdown",
      "source": [
        "Write a python code using Pandas to load the Transaction2.csv and the subject.xlsx datasets. Then, write the code needed to perform the following modifications:\n",
        "1. Introduce in the subjects Dataframe the dichotomic variable ‘largecommitter’. It is set to True, if the subject has committed more than three transactions. False, otherwise\n",
        "2. Introduce in the Transaction2 Dataframe a numeric variable 'charge', to be calculated in the following the way:\n",
        "- 3% of the amount, if the transaction is of type ‘credit card’\n",
        "- 3 euro, if the transaction is of type ‘bank transfer’\n",
        "- 0, otherwise \\\\\n",
        "Print on screen the overall count of received transactions and the overall amount of taxes paid by each recipient, by summing the amount of all taxes paid on the transactions  received \\\\\n",
        "Save on an excel file a table reporting, for each subject, her id number, her first and last name and the overall amount of. taxes she paid"
      ],
      "metadata": {
        "id": "M62VHhyTRA1k"
      }
    },
    {
      "cell_type": "markdown",
      "source": [
        "#Prep:"
      ],
      "metadata": {
        "id": "K-1femK2SU1p"
      }
    },
    {
      "cell_type": "code",
      "source": [
        "#first off we need to import panda\n",
        "import pandas as pd"
      ],
      "metadata": {
        "id": "BTJ7_VmsRC0k"
      },
      "execution_count": null,
      "outputs": []
    },
    {
      "cell_type": "code",
      "source": [
        "#in order to make t\n",
        "t = pd.read_csv('Transactions2.csv', sep = ';', dtype = {'recipient' : str, 'committer': str})\n",
        "\n",
        "t.rename(columns = {'Unnamed: 0': 'Id', 'amunt': 'amount'}, inplace= True)\n",
        "t['charge'] = 0"
      ],
      "metadata": {
        "id": "jAnI3c6ZRFpI"
      },
      "execution_count": null,
      "outputs": []
    },
    {
      "cell_type": "code",
      "source": [
        "t.dtypes"
      ],
      "metadata": {
        "id": "LKGDeJjV51m-",
        "colab": {
          "base_uri": "https://localhost:8080/"
        },
        "outputId": "5f4016b0-c553-41fb-fadb-d03b23ef0576"
      },
      "execution_count": null,
      "outputs": [
        {
          "output_type": "execute_result",
          "data": {
            "text/plain": [
              "Id            int64\n",
              "amount        int64\n",
              "recipient    object\n",
              "committer    object\n",
              "type         object\n",
              "charge        int64\n",
              "dtype: object"
            ]
          },
          "metadata": {},
          "execution_count": 692
        }
      ]
    },
    {
      "cell_type": "code",
      "source": [
        "#working on s\n",
        "s = pd.read_excel('subjects.xlsx', dtype = {'ID': str})\n",
        "\n",
        "#also\n",
        "\n",
        "s.loc[s['GENDER'] == 'Male', 'GENDER'] = 'M'\n",
        "s.loc[s['GENDER'] == 'Female', 'GENDER'] = 'F'\n",
        "\n",
        "#also, I would rather work with one birth column as well for both birthdays and address\n",
        "s['BIRTHDATE'] = 'na'\n",
        "\n",
        "s['BIRTHDATE'] = pd.to_datetime(s['BIRTHDAY'].astype(str) + '/'  + s['BIRTHMONTH'].astype(str) + '/' + s['BIRTHYEAR'].astype(str))\n",
        "s.drop(columns = ['BIRTHYEAR', 'BIRTHMONTH', 'BIRTHDAY'], inplace = True)\n",
        "s.drop(columns = ['LATITUDE', 'LONGITUDE'], inplace = True)\n",
        "s.drop(columns = ['OLDID'], inplace = True)"
      ],
      "metadata": {
        "id": "8_YqnBILRK1J"
      },
      "execution_count": null,
      "outputs": []
    },
    {
      "cell_type": "code",
      "source": [
        "## First Part of second Excercise\n",
        "t.loc[t['type']== 'bank transfer', 'charge'] = 3\n",
        "t.loc[t['type']== 'credit card', 'charge'] = t['amount']*(3/100)\n",
        "t.loc[t['type']== 'cash', 'charge'] = 0\n",
        "t.loc[t['type']== 'cheque', 'charge'] = 0"
      ],
      "metadata": {
        "id": "A8blrHcwEsTq"
      },
      "execution_count": null,
      "outputs": []
    },
    {
      "cell_type": "code",
      "source": [
        "t = t.fillna('nd')\n",
        "t"
      ],
      "metadata": {
        "id": "XPuIgwQo_OG3"
      },
      "execution_count": null,
      "outputs": []
    },
    {
      "cell_type": "code",
      "source": [
        "t1 = pd.merge(t, s, left_on = 'committer', right_on = 'ID')\n",
        "t1"
      ],
      "metadata": {
        "id": "H9vJegSERZ2r"
      },
      "execution_count": null,
      "outputs": []
    },
    {
      "cell_type": "markdown",
      "source": [
        "# Actual HW"
      ],
      "metadata": {
        "id": "DKhgLf9ISXMf"
      }
    },
    {
      "cell_type": "code",
      "source": [
        "#working on task one\n",
        "t2 =t1.groupby(['committer'])['amount'].count()\n",
        "t2"
      ],
      "metadata": {
        "id": "bwLT_gQXfBr4"
      },
      "execution_count": null,
      "outputs": []
    },
    {
      "cell_type": "code",
      "source": [
        "###keep in mind that there's no correspondance between the index of the ids in\n",
        "#the previous cell\n",
        "\n",
        "t2 =t1.groupby(['committer'])['amount'].count()\n",
        "LargeCommitter = []\n",
        "\n",
        "for i in t['committer']:\n",
        "  if i in t2[t2 >= 3]:\n",
        "    LargeCommitter.append(True)\n",
        "  else:\n",
        "    LargeCommitter.append(False)\n",
        "\n",
        "print(LargeCommitter)"
      ],
      "metadata": {
        "id": "sAseixQ803lL"
      },
      "execution_count": null,
      "outputs": []
    },
    {
      "cell_type": "code",
      "source": [
        "lc = pd.Series(LargeCommitter)\n",
        "lc"
      ],
      "metadata": {
        "id": "4KR5sIAMcRns"
      },
      "execution_count": null,
      "outputs": []
    },
    {
      "cell_type": "code",
      "source": [
        "pd.merge(lc.rename('LARGECOMMITTERS'), s, left_index=True, right_index=True)\n"
      ],
      "metadata": {
        "id": "T4ldk0oxdjGT"
      },
      "execution_count": null,
      "outputs": []
    },
    {
      "cell_type": "code",
      "source": [
        "#printing the sum of all amounts\n",
        "\n",
        "t3 = t1.groupby(['recipient'])['amount'].sum()\n",
        "t3\n"
      ],
      "metadata": {
        "id": "BzeQ20II47r4"
      },
      "execution_count": null,
      "outputs": []
    },
    {
      "cell_type": "code",
      "source": [
        "#printing the charges by recipient\n",
        "#I'm now using t instead of t1 given that, with the lost of the merged values,\n",
        "#There were no credit cards left to work on\n",
        "\n",
        "rxc = t.groupby(['recipient'])['charge'].sum()\n",
        "rxc = pd.DataFrame(rxc)\n",
        "rxct = pd.merge(rxc, s, left_on = 'recipient', right_on ='ID')\n",
        "rxct"
      ],
      "metadata": {
        "id": "7VwVW48lIbti"
      },
      "execution_count": null,
      "outputs": []
    },
    {
      "cell_type": "code",
      "source": [
        "#in order to print appropriate csv\n",
        "\n",
        "rxct.drop(columns = ['GENDER', 'STREET ADDRESS', 'CAP', 'CITY', 'BIRTHDATE'], inplace = True)\n",
        "rxct"
      ],
      "metadata": {
        "id": "LflwYlnVOUiG"
      },
      "execution_count": null,
      "outputs": []
    },
    {
      "cell_type": "code",
      "source": [
        "rxct.to_csv('SumOfTaxesF', sep = ';')\n",
        "\n",
        "#the csv is not full of all the subjects giving the final merge, basically\n",
        "#as our program can't id those people, we are left with the data about just the\n",
        "#ones we can name."
      ],
      "metadata": {
        "id": "y39EkYzfPOAb"
      },
      "execution_count": null,
      "outputs": []
    }
  ]
}